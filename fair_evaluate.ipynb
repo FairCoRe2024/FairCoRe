{
 "cells": [
  {
   "cell_type": "code",
   "execution_count": 1,
   "metadata": {},
   "outputs": [],
   "source": [
    "import torch\n",
    "import torch.nn as nn\n",
    "import torch.nn.functional as F\n",
    "import torch.optim as optim\n",
    "from torch.utils.data import TensorDataset, DataLoader\n",
    "\n",
    "import numpy as np\n",
    "import pandas as pd\n",
    "import pickle\n",
    "from collections import defaultdict\n",
    "from sklearn.metrics import roc_auc_score\n",
    "\n",
    "from utils import *\n",
    "from models import *\n",
    "from tqdm import tqdm\n",
    "\n",
    "import scipy.stats as stats\n",
    "\n",
    "import pdb\n",
    "import sys"
   ]
  },
  {
   "cell_type": "markdown",
   "metadata": {},
   "source": [
    "# MovieLens-1M"
   ]
  },
  {
   "cell_type": "code",
   "execution_count": 2,
   "metadata": {},
   "outputs": [],
   "source": [
    "##### load dataset\n",
    "with open('./data/ml-1m/process/process.pkl', 'rb') as f:\n",
    "    train_u2i = pickle.load(f)\n",
    "    train_i2u = pickle.load(f)\n",
    "    test_u2i = pickle.load(f)\n",
    "    test_i2u = pickle.load(f)\n",
    "    train_set = pickle.load(f)\n",
    "    test_set = pickle.load(f)\n",
    "    user_side_features = pickle.load(f)\n",
    "    n_users, n_items = pickle.load(f)"
   ]
  },
  {
   "cell_type": "code",
   "execution_count": 3,
   "metadata": {},
   "outputs": [
    {
     "data": {
      "text/plain": [
       "{'ndcg@10': 0.19585392,\n",
       " 'ndcg@20': 0.2566614,\n",
       " 'ndcg@30': 0.29592615,\n",
       " 'recall@10': 0.14615573,\n",
       " 'recall@20': 0.23236814,\n",
       " 'recall@30': 0.2968886,\n",
       " 'js_dp@10': 0.28856838659246575,\n",
       " 'js_eo@10': 0.35305252788420216,\n",
       " 'js_dp@20': 0.2572996617018822,\n",
       " 'js_eo@20': 0.32072757152760784,\n",
       " 'js_dp@30': 0.24159028259728882,\n",
       " 'js_eo@30': 0.30837526565624523}"
      ]
     },
     "execution_count": 3,
     "metadata": {},
     "output_type": "execute_result"
    }
   ],
   "source": [
    "model = torch.load('./param/bpr_base.pth', map_location=torch.device('cpu'))\n",
    "user_emb, item_emb = model.forward()\n",
    "user_emb = user_emb.detach().cpu().numpy()\n",
    "item_emb = item_emb.detach().cpu().numpy()\n",
    "\n",
    "ranking_evaluate(\n",
    "    user_emb, item_emb, n_users, n_items, train_u2i, test_u2i, user_side_features['gender'], num_workers=7)"
   ]
  },
  {
   "cell_type": "code",
   "execution_count": 4,
   "metadata": {},
   "outputs": [
    {
     "data": {
      "text/plain": [
       "{'ndcg@10': 0.20383349,\n",
       " 'ndcg@20': 0.26714432,\n",
       " 'ndcg@30': 0.3075723,\n",
       " 'recall@10': 0.15489534,\n",
       " 'recall@20': 0.24494334,\n",
       " 'recall@30': 0.31149277,\n",
       " 'js_dp@10': 0.29360061156592854,\n",
       " 'js_eo@10': 0.3619421310607289,\n",
       " 'js_dp@20': 0.26261299833170976,\n",
       " 'js_eo@20': 0.3325824923561111,\n",
       " 'js_dp@30': 0.24523064940635927,\n",
       " 'js_eo@30': 0.3120269348252359}"
      ]
     },
     "execution_count": 4,
     "metadata": {},
     "output_type": "execute_result"
    }
   ],
   "source": [
    "model = torch.load('./param/gcn_base.pth', map_location=torch.device('cpu'))\n",
    "user_emb, item_emb = model.forward()\n",
    "user_emb = user_emb.detach().cpu().numpy()\n",
    "item_emb = item_emb.detach().cpu().numpy()\n",
    "\n",
    "ranking_evaluate(\n",
    "    user_emb, item_emb, n_users, n_items, train_u2i, test_u2i, user_side_features['gender'], num_workers=7)"
   ]
  },
  {
   "cell_type": "code",
   "execution_count": 6,
   "metadata": {},
   "outputs": [
    {
     "data": {
      "text/plain": [
       "{'ndcg@10': 0.20390324,\n",
       " 'ndcg@20': 0.26276943,\n",
       " 'ndcg@30': 0.30097637,\n",
       " 'recall@10': 0.15051171,\n",
       " 'recall@20': 0.232806,\n",
       " 'recall@30': 0.29554614,\n",
       " 'js_dp@10': 0.10803647671241615,\n",
       " 'js_eo@10': 0.18847103457837133,\n",
       " 'js_dp@20': 0.08719058737499341,\n",
       " 'js_eo@20': 0.17508806225706666,\n",
       " 'js_dp@30': 0.08248164629369363,\n",
       " 'js_eo@30': 0.16779135638852335}"
      ]
     },
     "execution_count": 6,
     "metadata": {},
     "output_type": "execute_result"
    }
   ],
   "source": [
    "model = torch.load('./param/our model/bpr_fairness.pth', map_location=torch.device('cpu'))\n",
    "user_emb, item_emb = model.forward()\n",
    "user_emb = user_emb.detach().cpu().numpy()\n",
    "item_emb = item_emb.detach().cpu().numpy()\n",
    "\n",
    "ranking_evaluate(\n",
    "    user_emb, item_emb, n_users, n_items, train_u2i, test_u2i, user_side_features['gender'], num_workers=7)"
   ]
  },
  {
   "cell_type": "code",
   "execution_count": 7,
   "metadata": {},
   "outputs": [
    {
     "data": {
      "text/plain": [
       "{'ndcg@10': 0.2136298,\n",
       " 'ndcg@20': 0.2751031,\n",
       " 'ndcg@30': 0.3150412,\n",
       " 'recall@10': 0.15913747,\n",
       " 'recall@20': 0.24620822,\n",
       " 'recall@30': 0.31163195,\n",
       " 'js_dp@10': 0.12252866885152552,\n",
       " 'js_eo@10': 0.19839246568753183,\n",
       " 'js_dp@20': 0.09990404063764659,\n",
       " 'js_eo@20': 0.17883913349857386,\n",
       " 'js_dp@30': 0.08978427503061338,\n",
       " 'js_eo@30': 0.17559111818468337}"
      ]
     },
     "execution_count": 7,
     "metadata": {},
     "output_type": "execute_result"
    }
   ],
   "source": [
    "model = torch.load('./param/our model/gcn_fairness.pth', map_location=torch.device('cpu'))\n",
    "user_emb, item_emb = model.forward()\n",
    "user_emb = user_emb.detach().cpu().numpy()\n",
    "item_emb = item_emb.detach().cpu().numpy()\n",
    "\n",
    "ranking_evaluate(\n",
    "    user_emb, item_emb, n_users, n_items, train_u2i, test_u2i, user_side_features['gender'], num_workers=7)"
   ]
  },
  {
   "cell_type": "markdown",
   "metadata": {},
   "source": [
    "# LastFM-360K"
   ]
  },
  {
   "cell_type": "code",
   "execution_count": 2,
   "metadata": {},
   "outputs": [],
   "source": [
    "##### load dataset\n",
    "with open('./data/lastfm-360k/process/process.pkl', 'rb') as f:\n",
    "    train_u2i = pickle.load(f)\n",
    "    train_i2u = pickle.load(f)\n",
    "    test_u2i = pickle.load(f)\n",
    "    test_i2u = pickle.load(f)\n",
    "    train_set = pickle.load(f)\n",
    "    test_set = pickle.load(f)\n",
    "    user_side_features = pickle.load(f)\n",
    "    n_users, n_items = pickle.load(f)"
   ]
  },
  {
   "cell_type": "code",
   "execution_count": 9,
   "metadata": {},
   "outputs": [
    {
     "data": {
      "text/plain": [
       "{'ndcg@10': 0.19592367,\n",
       " 'ndcg@20': 0.24499787,\n",
       " 'ndcg@30': 0.2743452,\n",
       " 'recall@10': 0.15642715,\n",
       " 'recall@20': 0.23720641,\n",
       " 'recall@30': 0.29433665,\n",
       " 'js_dp@10': 0.26646315109850083,\n",
       " 'js_eo@10': 0.3345366089868938,\n",
       " 'js_dp@20': 0.248007301145701,\n",
       " 'js_eo@20': 0.3201045769795233,\n",
       " 'js_dp@30': 0.23760693176302145,\n",
       " 'js_eo@30': 0.3122971337452087}"
      ]
     },
     "execution_count": 9,
     "metadata": {},
     "output_type": "execute_result"
    }
   ],
   "source": [
    "model = torch.load('./param/bpr_base_lastfm.pth', map_location=torch.device('cpu'))\n",
    "user_emb, item_emb = model.forward()\n",
    "user_emb = user_emb.detach().cpu().numpy()\n",
    "item_emb = item_emb.detach().cpu().numpy()\n",
    "\n",
    "ranking_evaluate(\n",
    "    user_emb, item_emb, n_users, n_items, train_u2i, test_u2i, user_side_features['gender'], num_workers=7)"
   ]
  },
  {
   "cell_type": "code",
   "execution_count": 10,
   "metadata": {},
   "outputs": [
    {
     "data": {
      "text/plain": [
       "{'ndcg@10': 0.19741677,\n",
       " 'ndcg@20': 0.24667916,\n",
       " 'ndcg@30': 0.27664053,\n",
       " 'recall@10': 0.15758686,\n",
       " 'recall@20': 0.23847593,\n",
       " 'recall@30': 0.2967423,\n",
       " 'js_dp@10': 0.28495983298349875,\n",
       " 'js_eo@10': 0.3505538787831724,\n",
       " 'js_dp@20': 0.2665529616224485,\n",
       " 'js_eo@20': 0.3325953291945979,\n",
       " 'js_dp@30': 0.2563889041195565,\n",
       " 'js_eo@30': 0.32417302874883885}"
      ]
     },
     "execution_count": 10,
     "metadata": {},
     "output_type": "execute_result"
    }
   ],
   "source": [
    "model = torch.load('./param/gcn_base_lastfm.pth', map_location=torch.device('cpu'))\n",
    "user_emb, item_emb = model.forward()\n",
    "user_emb = user_emb.detach().cpu().numpy()\n",
    "item_emb = item_emb.detach().cpu().numpy()\n",
    "\n",
    "ranking_evaluate(\n",
    "    user_emb, item_emb, n_users, n_items, train_u2i, test_u2i, user_side_features['gender'], num_workers=7)"
   ]
  },
  {
   "cell_type": "code",
   "execution_count": 11,
   "metadata": {},
   "outputs": [
    {
     "data": {
      "text/plain": [
       "{'ndcg@10': 0.19387262,\n",
       " 'ndcg@20': 0.24207412,\n",
       " 'ndcg@30': 0.2715,\n",
       " 'recall@10': 0.15429892,\n",
       " 'recall@20': 0.2336777,\n",
       " 'recall@30': 0.29096353,\n",
       " 'js_dp@10': 0.10799284791359008,\n",
       " 'js_eo@10': 0.2327316691791679,\n",
       " 'js_dp@20': 0.09361863019936079,\n",
       " 'js_eo@20': 0.23191471959647983,\n",
       " 'js_dp@30': 0.08578669508017561,\n",
       " 'js_eo@30': 0.23336106344835167}"
      ]
     },
     "execution_count": 11,
     "metadata": {},
     "output_type": "execute_result"
    }
   ],
   "source": [
    "model = torch.load('./param/our model/bpr_fairness_lastfm.pth', map_location=torch.device('cpu'))\n",
    "user_emb, item_emb = model.forward()\n",
    "user_emb = user_emb.detach().cpu().numpy()\n",
    "item_emb = item_emb.detach().cpu().numpy()\n",
    "\n",
    "ranking_evaluate(\n",
    "    user_emb, item_emb, n_users, n_items, train_u2i, test_u2i, user_side_features['gender'], num_workers=7)"
   ]
  },
  {
   "cell_type": "code",
   "execution_count": 3,
   "metadata": {},
   "outputs": [
    {
     "data": {
      "text/plain": [
       "{'ndcg@10': 0.19897811,\n",
       " 'ndcg@20': 0.24747631,\n",
       " 'ndcg@30': 0.2769592,\n",
       " 'recall@10': 0.15744491,\n",
       " 'recall@20': 0.2372581,\n",
       " 'recall@30': 0.29467666,\n",
       " 'js_dp@10': 0.12193436452426534,\n",
       " 'js_eo@10': 0.23163113427910081,\n",
       " 'js_dp@20': 0.11293640690906799,\n",
       " 'js_eo@20': 0.2346724067981417,\n",
       " 'js_dp@30': 0.10804764020140051,\n",
       " 'js_eo@30': 0.23696250623037113}"
      ]
     },
     "execution_count": 3,
     "metadata": {},
     "output_type": "execute_result"
    }
   ],
   "source": [
    "model = torch.load('./param/our model/gcn_fairness_lastfm.pth', map_location=torch.device('cpu'))\n",
    "user_emb, item_emb = model.forward()\n",
    "user_emb = user_emb.detach().cpu().numpy()\n",
    "item_emb = item_emb.detach().cpu().numpy()\n",
    "\n",
    "ranking_evaluate(\n",
    "    user_emb, item_emb, n_users, n_items, train_u2i, test_u2i, user_side_features['gender'], num_workers=7)"
   ]
  },
  {
   "cell_type": "code",
   "execution_count": null,
   "metadata": {},
   "outputs": [],
   "source": []
  }
 ],
 "metadata": {
  "kernelspec": {
   "display_name": "Python 3 (ipykernel)",
   "language": "python",
   "name": "python3"
  },
  "language_info": {
   "codemirror_mode": {
    "name": "ipython",
    "version": 3
   },
   "file_extension": ".py",
   "mimetype": "text/x-python",
   "name": "python",
   "nbconvert_exporter": "python",
   "pygments_lexer": "ipython3",
   "version": "3.11.5"
  }
 },
 "nbformat": 4,
 "nbformat_minor": 4
}
